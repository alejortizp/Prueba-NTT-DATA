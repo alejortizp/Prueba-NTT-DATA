{
 "cells": [
  {
   "cell_type": "code",
   "execution_count": 2,
   "id": "31e4fb79",
   "metadata": {},
   "outputs": [],
   "source": [
    "import pandas as pd\n",
    "from langchain_openai import OpenAIEmbeddings, ChatOpenAI\n",
    "from langchain.chains import RetrievalQA\n",
    "from langchain.vectorstores import FAISS\n",
    "from langchain.docstore.document import Document\n",
    "import os"
   ]
  },
  {
   "cell_type": "code",
   "execution_count": null,
   "id": "935486b6",
   "metadata": {},
   "outputs": [],
   "source": [
    "# --- Configuración de OpenAI ---\n",
    "# Establece tu API Key de OpenAI aquí\n",
    "# Es MÁS SEGURO configurarla como una variable de entorno:\n",
    "# os.environ[\"OPENAI_API_KEY\"] = \"TU_API_KEY_AQUI\"\n",
    "# Si la configuras como variable de entorno, puedes omitir la línea de abajo.\n",
    "os.environ[\"OPENAI_API_KEY\"] = os.getenv('OPENAI_API_KEY')  # ¡REEMPLAZA ESTO CON TU CLAVE REAL!\n",
    "\n",
    "# Inicializa el modelo de embeddings y el LLM\n",
    "embeddings = OpenAIEmbeddings(model=\"text-embedding-ada-002\")\n",
    "llm = ChatOpenAI(model=\"gpt-4o\", temperature=0.1) # gpt-4o es potente y rápido, puedes probar con gpt-3.5-turbo también"
   ]
  },
  {
   "cell_type": "code",
   "execution_count": 4,
   "id": "96571387",
   "metadata": {},
   "outputs": [],
   "source": [
    "# --- Paso 1: Cargar y Procesar el Archivo CSV ---\n",
    "def load_and_process_csv(file_path):\n",
    "    try:\n",
    "        df = pd.read_csv(file_path)\n",
    "    except FileNotFoundError:\n",
    "        print(f\"Error: El archivo '{file_path}' no se encontró.\")\n",
    "        return None\n",
    "\n",
    "    # Convertir cada fila del DataFrame en un 'Document' de LangChain\n",
    "    # Cada documento contendrá la información de una fila como su contenido.\n",
    "    # Puedes ajustar qué columnas incluir en la representación del documento.\n",
    "    documents = []\n",
    "    for index, row in df.iterrows():\n",
    "        # Aquí puedes personalizar cómo quieres que se represente cada fila como texto.\n",
    "        # Por ejemplo, podemos unir todos los valores de la fila en una sola cadena.\n",
    "        content = \", \".join([f\"{col}: {row[col]}\" for col in df.columns])\n",
    "        # También puedes agregar metadatos si lo necesitas, por ejemplo, el índice de la fila\n",
    "        metadata = {\"row_index\": index}\n",
    "        documents.append(Document(page_content=content, metadata=metadata))\n",
    "    \n",
    "    print(f\"Se cargaron {len(documents)} documentos del archivo CSV.\")\n",
    "    return documents"
   ]
  },
  {
   "cell_type": "code",
   "execution_count": 5,
   "id": "1dd0e886",
   "metadata": {},
   "outputs": [],
   "source": [
    "# --- Paso 2: Crear la Base de Datos Vectorial ---\n",
    "def create_vector_db(documents, embeddings_model):\n",
    "    print(\"Creando la base de datos vectorial... Esto puede tomar un momento.\")\n",
    "    # Usamos FAISS para una base de datos vectorial en memoria, sencilla para empezar.\n",
    "    vector_db = FAISS.from_documents(documents, embeddings_model)\n",
    "    print(\"Base de datos vectorial creada exitosamente.\")\n",
    "    return vector_db"
   ]
  },
  {
   "cell_type": "code",
   "execution_count": 6,
   "id": "8caaba0b",
   "metadata": {},
   "outputs": [],
   "source": [
    "# --- Paso 3: Crear el Agente de Consulta (RetrievalQA Chain) ---\n",
    "def create_agent(vector_db, llm_model):\n",
    "    # Un \"retriever\" es lo que buscará documentos relevantes en tu base de datos vectorial.\n",
    "    retriever = vector_db.as_retriever()\n",
    "    \n",
    "    # RetrievalQA es una cadena que combina la recuperación de documentos con un LLM para responder preguntas.\n",
    "    qa_chain = RetrievalQA.from_chain_type(\n",
    "        llm=llm_model, \n",
    "        chain_type=\"stuff\", # 'stuff' simplemente toma todos los documentos recuperados y los 'mete' en el prompt del LLM\n",
    "        retriever=retriever, \n",
    "        return_source_documents=True # Útil para ver qué partes del CSV se usaron para la respuesta\n",
    "    )\n",
    "    print(\"Agente de consulta configurado.\")\n",
    "    return qa_chain"
   ]
  },
  {
   "cell_type": "code",
   "execution_count": 7,
   "id": "fcdb84cb",
   "metadata": {},
   "outputs": [],
   "source": [
    "### **Función Principal Modificada**\n",
    "\n",
    "def main():\n",
    "    # Define la ruta a tu archivo CSV existente.\n",
    "    # Asegúrate de que 'coffee_final.csv' esté en la misma carpeta que tu script,\n",
    "    # o proporciona la ruta completa al archivo.\n",
    "    csv_file_path = \"coffee_final.csv\" \n",
    "\n",
    "    # Simplemente llamamos a la función para cargar y procesar el archivo existente.\n",
    "    # ¡Las líneas para crear sample_data han sido eliminadas!\n",
    "    documents = load_and_process_csv(csv_file_path)\n",
    "    if not documents:\n",
    "        # Si no se pudieron cargar los documentos (ej. el archivo no existe), el programa termina.\n",
    "        return\n",
    "\n",
    "    vector_db = create_vector_db(documents, embeddings)\n",
    "    qa_agent = create_agent(vector_db, llm)\n",
    "\n",
    "    print(\"\\n¡Listo para hacer consultas! Escribe 'salir' para terminar.\")\n",
    "    while True:\n",
    "        query = input(\"\\nTu pregunta: \")\n",
    "        if query.lower() == 'salir':\n",
    "            print(\"¡Hasta luego!\")\n",
    "            break\n",
    "        \n",
    "        try:\n",
    "            result = qa_agent.invoke({\"query\": query})\n",
    "            print(\"\\n--- Respuesta del Agente ---\")\n",
    "            print(result[\"result\"])\n",
    "            print(\"\\n--- Documentos Fuente Utilizados ---\")\n",
    "            for doc in result[\"source_documents\"]:\n",
    "                print(f\"- {doc.page_content}\")\n",
    "            print(\"-----------------------------\\n\")\n",
    "        except Exception as e:\n",
    "            print(f\"Ocurrió un error al procesar la consulta: {e}\")"
   ]
  },
  {
   "cell_type": "code",
   "execution_count": 8,
   "id": "163eff37",
   "metadata": {},
   "outputs": [
    {
     "name": "stdout",
     "output_type": "stream",
     "text": [
      "Se cargaron 1430 documentos del archivo CSV.\n",
      "Creando la base de datos vectorial... Esto puede tomar un momento.\n",
      "Base de datos vectorial creada exitosamente.\n",
      "Agente de consulta configurado.\n",
      "\n",
      "¡Listo para hacer consultas! Escribe 'salir' para terminar.\n",
      "\n",
      "--- Respuesta del Agente ---\n",
      "La venta máxima de café en Colombia, según los datos proporcionados, fue de 99,927,060 en el año 2015.\n",
      "\n",
      "--- Documentos Fuente Utilizados ---\n",
      "- Fecha: 2001-01-01, Country: Colombia, Ventas: 76920000, Coffee type: Arabica\n",
      "- Fecha: 2005-01-01, Country: Colombia, Ventas: 73380000, Coffee type: Arabica\n",
      "- Fecha: 2015-01-01, Country: Colombia, Ventas: 99927060, Coffee type: Arabica\n",
      "- Fecha: 1995-01-01, Country: Colombia, Ventas: 82500000, Coffee type: Arabica\n",
      "-----------------------------\n",
      "\n",
      "\n",
      "--- Respuesta del Agente ---\n",
      "Lo siento, no tengo información sobre las ventas de café de Colombia entre los años 1992 y 1994. Solo tengo datos a partir de 1995, cuando las ventas fueron de 82,500,000.\n",
      "\n",
      "--- Documentos Fuente Utilizados ---\n",
      "- Fecha: 1995-01-01, Country: Colombia, Ventas: 82500000, Coffee type: Arabica\n",
      "- Fecha: 1996-01-01, Country: Colombia, Ventas: 81540000, Coffee type: Arabica\n",
      "- Fecha: 1997-01-01, Country: Colombia, Ventas: 80580000, Coffee type: Arabica\n",
      "- Fecha: 1999-01-01, Country: Colombia, Ventas: 78720000, Coffee type: Arabica\n",
      "-----------------------------\n",
      "\n",
      "¡Hasta luego!\n"
     ]
    }
   ],
   "source": [
    "if __name__ == \"__main__\":\n",
    "    main()"
   ]
  },
  {
   "cell_type": "code",
   "execution_count": null,
   "id": "7cd02369",
   "metadata": {},
   "outputs": [],
   "source": [
    "#!jupyter nbconvert --to script NB_agente_consulta_coffe.ipynb"
   ]
  }
 ],
 "metadata": {
  "kernelspec": {
   "display_name": "mi_entorno",
   "language": "python",
   "name": "python3"
  },
  "language_info": {
   "codemirror_mode": {
    "name": "ipython",
    "version": 3
   },
   "file_extension": ".py",
   "mimetype": "text/x-python",
   "name": "python",
   "nbconvert_exporter": "python",
   "pygments_lexer": "ipython3",
   "version": "3.12.3"
  }
 },
 "nbformat": 4,
 "nbformat_minor": 5
}
